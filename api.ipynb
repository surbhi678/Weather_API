{
 "cells": [
  {
   "cell_type": "code",
   "execution_count": null,
   "id": "importing-libraries",
   "metadata": {},
   "outputs": [],
   "source": [
    "# Importing libraries\n",
    "import requests\n",
    "import os\n",
    "from dotenv import load_dotenv, find_dotenv #python -m pip install python-dotenv\n",
    "import pandas as pd\n",
    "import matplotlib.pyplot as plt"
   ]
  },
  {
   "cell_type": "code",
   "execution_count": null,
   "id": "create-virtual-environment",
   "metadata": {},
   "outputs": [],
   "source": [
    "# Create virtual environment\n",
    "# python3 -m venv .venv\n",
    "# source .venv/bin/activate"
   ]
  },
  {
   "cell_type": "code",
   "execution_count": null,
   "id": "create-env-file",
   "metadata": {},
   "outputs": [],
   "source": [
    "# Create a .env file where you need to add your API key\n",
    "# Setting up the API key\n",
    "#api_key = '....'"
   ]
  },
  {
   "cell_type": "code",
   "execution_count": null,
   "id": "loading-env-file",
   "metadata": {},
   "outputs": [],
   "source": [
    "# Loading the env file\n",
    "load_dotenv()\n",
    "# load_dotenv(find_dotenv())\n",
    "\n",
    "api_key= os.getenv('api_key')"
   ]
  },
  {
   "cell_type": "code",
   "execution_count": null,
   "id": "set-up-variables",
   "metadata": {},
   "outputs": [],
   "source": [
    "# Set up variables\n",
    "#api_key = '053fb67bfeb8479f36f9522077402043'\n",
    "\n",
    "# list of cities to get the data for \n",
    "cities = ['Auckland', 'Sydney', 'Tokyo', 'New York', 'London', 'Paris', 'Berlin', 'Moscow', 'Beijing', 'Mumbai']\n",
    "\n",
    "# Initialise an empty list to store the data \n",
    "weather_data = []"
   ]
  },
  {
   "cell_type": "code",
   "execution_count": null,
   "id": "loop-through-cities",
   "metadata": {},
   "outputs": [],
   "source": [
    "# Loop through the list of cities to make API calls\n",
    "for city in cities:\n",
    "    url = f'http://api.openweathermap.org/data/2.5/weather?q={city}&appid={api_key}'\n",
    "    response = requests.get(url)\n",
    "    if response.status_code == 200:\n",
    "        # Add the response data to the list\n",
    "        weather_data.append(response.json())\n",
    "    else:\n",
    "        print('Failed to retrieve data')"
   ]
  },
  {
   "cell_type": "code",
   "execution_count": null,
   "id": "convert-to-dataframe",
   "metadata": {},
   "outputs": [],
   "source": [
    "# Convert the list of data to pandas dataframe\n",
    "df = pd.DataFrame(weather_data)\n",
    "df.head()"
   ]
  },
  {
   "cell_type": "code",
   "execution_count": null,
   "id": "perform-analysis",
   "metadata": {},
   "outputs": [],
   "source": [
    "# Perform analysis on the dataframe\n",
    "# example to get the average temperature of all cities\n",
    "df['temp_avg'] = df['main'].apply(lambda x: x['temp'])\n",
    "print(f\"Average temperature across cities: {df['temp_avg'].mean()} Kelvin\")\n",
    "\n",
    "# To analyze data specifically for Auckland\n",
    "auckland_data = df[df['name'] == 'Auckland']\n",
    "print(f\"Auckland weather data: {auckland_data}\")"
   ]
  },
  {
   "cell_type": "code",
   "execution_count": null,
   "id": "visualisation",
   "metadata": {},
   "outputs": [],
   "source": [
    "# Visualisation\n",
    "# Convert temperatures from Kelvin to Celsius for better understanding\n",
    "df['temp_celsius'] = df['temp_avg'].apply(lambda x: x - 273.15)\n",
    "\n",
    "# Plotting the bar chart\n",
    "plt.figure(figsize=(10, 6))\n",
    "plt.bar(df['name'], df['temp_celsius'], color='skyblue')\n",
    "plt.xlabel('City')\n",
    "plt.ylabel('Average Temperature (°C)')\n",
    "plt.title('Average Temperature Comparison Among Cities')\n",
    "plt.xticks(rotation=45)\n",
    "plt.tight_layout()  # Adjusts the plot to ensure everything fits without overlapping\n",
    "plt.show()"
   ]
  }
 ],
 "metadata": {
  "kernelspec": {
   "display_name": "Python 3",
   "language": "python",
   "name": "python3"
  },
  "language_info": {
   "codemirror_mode": {
    "name": "ipython",
    "version": 3
   },
   "file_extension": ".py",
   "mimetype": "text/x-python",
   "name": "python",
   "nbconvert_exporter": "python",
   "pygments_lexer": "ipython3",
   "version": "3.8.5"
  }
 },
 "nbformat": 4,
 "nbformat_minor": 5
}

